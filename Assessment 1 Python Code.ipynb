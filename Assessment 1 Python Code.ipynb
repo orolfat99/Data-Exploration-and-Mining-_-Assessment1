{
 "cells": [
  {
   "cell_type": "code",
   "execution_count": 2,
   "id": "0e91ec24",
   "metadata": {
    "scrolled": true
   },
   "outputs": [
    {
     "name": "stdout",
     "output_type": "stream",
     "text": [
      "<class 'pandas.core.frame.DataFrame'>\n",
      "RangeIndex: 50031 entries, 0 to 50030\n",
      "Data columns (total 39 columns):\n",
      " #   Column                    Non-Null Count  Dtype  \n",
      "---  ------                    --------------  -----  \n",
      " 0   encounter_id              50031 non-null  int64  \n",
      " 1   patient_nbr               50031 non-null  int64  \n",
      " 2   race                      48774 non-null  object \n",
      " 3   gender                    50031 non-null  object \n",
      " 4   age                       50031 non-null  object \n",
      " 5   weight                    1862 non-null   object \n",
      " 6   admission_type_id         50031 non-null  int64  \n",
      " 7   discharge_disposition_id  50031 non-null  int64  \n",
      " 8   admission_source_id       50031 non-null  int64  \n",
      " 9   length_of_stay            50031 non-null  int64  \n",
      " 10  payer_code                17366 non-null  object \n",
      " 11  medical_specialty         32276 non-null  object \n",
      " 12  num_lab_procedures        50031 non-null  int64  \n",
      " 13  num_procedures            50031 non-null  int64  \n",
      " 14  num_medications           50031 non-null  int64  \n",
      " 15  number_outpatient         50011 non-null  float64\n",
      " 16  number_emergency          49962 non-null  float64\n",
      " 17  number_inpatient          50016 non-null  float64\n",
      " 18  diag_1                    50020 non-null  object \n",
      " 19  diag_2                    49765 non-null  object \n",
      " 20  diag_3                    48948 non-null  object \n",
      " 21  number_diagnoses          50031 non-null  int64  \n",
      " 22  diabetes                  50031 non-null  object \n",
      " 23  max_glu_serum             50031 non-null  object \n",
      " 24  A1Cresult                 50031 non-null  object \n",
      " 25  metformin                 50031 non-null  object \n",
      " 26  repaglinide               50031 non-null  object \n",
      " 27  nateglinide               50031 non-null  object \n",
      " 28  chlorpropamide            50030 non-null  object \n",
      " 29  glimepiride               50031 non-null  object \n",
      " 30  acetohexamide             50031 non-null  object \n",
      " 31  glipizide                 50031 non-null  object \n",
      " 32  glyburide                 50031 non-null  object \n",
      " 33  tolbutamide               50031 non-null  object \n",
      " 34  insulin                   50031 non-null  object \n",
      " 35  change                    50031 non-null  object \n",
      " 36  diabetesMed               50031 non-null  object \n",
      " 37  readmitted                50031 non-null  object \n",
      " 38  single_day_admission      50031 non-null  object \n",
      "dtypes: float64(3), int64(10), object(26)\n",
      "memory usage: 14.9+ MB\n"
     ]
    },
    {
     "name": "stderr",
     "output_type": "stream",
     "text": [
      "C:\\Users\\John\\AppData\\Local\\Temp\\ipykernel_20932\\2645084451.py:5: DtypeWarning: Columns (10) have mixed types. Specify dtype option on import or set low_memory=False.\n",
      "  df = pd.read_csv('D1.csv',na_values=\"?\")\n"
     ]
    }
   ],
   "source": [
    "#\n",
    "import numpy as np\n",
    "import pandas as pd\n",
    "#na_value=“?”\n",
    "df = pd.read_csv('D1.csv',na_values=\"?\")\n",
    "#,na_values=\"?\"\n",
    "df.info()"
   ]
  },
  {
   "cell_type": "code",
   "execution_count": 3,
   "id": "66cefdab",
   "metadata": {},
   "outputs": [
    {
     "data": {
      "text/plain": [
       "0.0     44457\n",
       "1.0      3127\n",
       "2.0      1091\n",
       "3.0       637\n",
       "4.0       335\n",
       "5.0       177\n",
       "6.0        67\n",
       "7.0        31\n",
       "8.0        28\n",
       "9.0        16\n",
       "10.0       12\n",
       "11.0        9\n",
       "12.0        5\n",
       "13.0        4\n",
       "14.0        4\n",
       "16.0        3\n",
       "15.0        2\n",
       "20.0        1\n",
       "21.0        1\n",
       "35.0        1\n",
       "17.0        1\n",
       "29.0        1\n",
       "36.0        1\n",
       "Name: number_outpatient, dtype: int64"
      ]
     },
     "execution_count": 3,
     "metadata": {},
     "output_type": "execute_result"
    }
   ],
   "source": []
  },
  {
   "cell_type": "markdown",
   "id": "80c1b76b",
   "metadata": {},
   "source": [
    "# Task1"
   ]
  },
  {
   "cell_type": "code",
   "execution_count": 2,
   "id": "5bb32a0b",
   "metadata": {},
   "outputs": [],
   "source": [
    "df['encounter_id'] = df['encounter_id'].astype(str)"
   ]
  },
  {
   "cell_type": "code",
   "execution_count": 3,
   "id": "38e1964c",
   "metadata": {},
   "outputs": [],
   "source": [
    "df['patient_nbr'] = df['patient_nbr'].astype(str)"
   ]
  },
  {
   "cell_type": "code",
   "execution_count": 4,
   "id": "2d40171b",
   "metadata": {},
   "outputs": [],
   "source": [
    "df['admission_type_id'] = df['admission_type_id'].astype(str)"
   ]
  },
  {
   "cell_type": "code",
   "execution_count": 5,
   "id": "25b1068c",
   "metadata": {},
   "outputs": [],
   "source": [
    "df['discharge_disposition_id'] = df['discharge_disposition_id'].astype(str)"
   ]
  },
  {
   "cell_type": "code",
   "execution_count": 6,
   "id": "bb640e80",
   "metadata": {},
   "outputs": [],
   "source": [
    "df['admission_source_id'] = df['admission_source_id'].astype(str)"
   ]
  },
  {
   "cell_type": "code",
   "execution_count": 7,
   "id": "461101de",
   "metadata": {},
   "outputs": [],
   "source": [
    "df['number_outpatient'] = df['number_outpatient'].astype('Int64')"
   ]
  },
  {
   "cell_type": "code",
   "execution_count": 8,
   "id": "2d48dbfd",
   "metadata": {},
   "outputs": [],
   "source": [
    "df['number_inpatient'] = df['number_inpatient'].astype('Int64')"
   ]
  },
  {
   "cell_type": "code",
   "execution_count": 9,
   "id": "a112b639",
   "metadata": {},
   "outputs": [],
   "source": [
    "df['number_emergency'] = df['number_emergency'].astype('Int64')"
   ]
  },
  {
   "cell_type": "code",
   "execution_count": 10,
   "id": "3f005277",
   "metadata": {},
   "outputs": [
    {
     "name": "stdout",
     "output_type": "stream",
     "text": [
      "<class 'pandas.core.frame.DataFrame'>\n",
      "RangeIndex: 50031 entries, 0 to 50030\n",
      "Data columns (total 39 columns):\n",
      " #   Column                    Non-Null Count  Dtype \n",
      "---  ------                    --------------  ----- \n",
      " 0   encounter_id              50031 non-null  object\n",
      " 1   patient_nbr               50031 non-null  object\n",
      " 2   race                      48774 non-null  object\n",
      " 3   gender                    50031 non-null  object\n",
      " 4   age                       50031 non-null  object\n",
      " 5   weight                    1862 non-null   object\n",
      " 6   admission_type_id         50031 non-null  object\n",
      " 7   discharge_disposition_id  50031 non-null  object\n",
      " 8   admission_source_id       50031 non-null  object\n",
      " 9   length_of_stay            50031 non-null  int64 \n",
      " 10  payer_code                17366 non-null  object\n",
      " 11  medical_specialty         32276 non-null  object\n",
      " 12  num_lab_procedures        50031 non-null  int64 \n",
      " 13  num_procedures            50031 non-null  int64 \n",
      " 14  num_medications           50031 non-null  int64 \n",
      " 15  number_outpatient         50011 non-null  Int64 \n",
      " 16  number_emergency          49962 non-null  Int64 \n",
      " 17  number_inpatient          50016 non-null  Int64 \n",
      " 18  diag_1                    50020 non-null  object\n",
      " 19  diag_2                    49765 non-null  object\n",
      " 20  diag_3                    48948 non-null  object\n",
      " 21  number_diagnoses          50031 non-null  int64 \n",
      " 22  diabetes                  50031 non-null  object\n",
      " 23  max_glu_serum             50031 non-null  object\n",
      " 24  A1Cresult                 50031 non-null  object\n",
      " 25  metformin                 50031 non-null  object\n",
      " 26  repaglinide               50031 non-null  object\n",
      " 27  nateglinide               50031 non-null  object\n",
      " 28  chlorpropamide            50030 non-null  object\n",
      " 29  glimepiride               50031 non-null  object\n",
      " 30  acetohexamide             50031 non-null  object\n",
      " 31  glipizide                 50031 non-null  object\n",
      " 32  glyburide                 50031 non-null  object\n",
      " 33  tolbutamide               50031 non-null  object\n",
      " 34  insulin                   50031 non-null  object\n",
      " 35  change                    50031 non-null  object\n",
      " 36  diabetesMed               50031 non-null  object\n",
      " 37  readmitted                50031 non-null  object\n",
      " 38  single_day_admission      50031 non-null  object\n",
      "dtypes: Int64(3), int64(5), object(31)\n",
      "memory usage: 15.0+ MB\n"
     ]
    }
   ],
   "source": [
    "df.info()"
   ]
  },
  {
   "cell_type": "markdown",
   "id": "563eceb5",
   "metadata": {},
   "source": [
    "# TAsk2"
   ]
  },
  {
   "cell_type": "markdown",
   "id": "69353ee8",
   "metadata": {},
   "source": [
    "# Task 2.1"
   ]
  },
  {
   "cell_type": "code",
   "execution_count": 3,
   "id": "6c880856",
   "metadata": {},
   "outputs": [
    {
     "name": "stderr",
     "output_type": "stream",
     "text": [
      "C:\\Users\\John\\AppData\\Local\\Temp\\ipykernel_20932\\4052796959.py:1: UserWarning: Boolean Series key will be reindexed to match DataFrame index.\n",
      "  df[df['gender'] == 'Male'][df['readmitted']=='<30']['length_of_stay'].mean()\n"
     ]
    },
    {
     "data": {
      "text/plain": [
       "4.915079969535415"
      ]
     },
     "execution_count": 3,
     "metadata": {},
     "output_type": "execute_result"
    }
   ],
   "source": [
    "df[df['gender'] == 'Male'][df['readmitted']=='<30']['length_of_stay'].mean()"
   ]
  },
  {
   "cell_type": "markdown",
   "id": "129950c7",
   "metadata": {},
   "source": [
    "# Task 2.2"
   ]
  },
  {
   "cell_type": "code",
   "execution_count": 12,
   "id": "b86f7d67",
   "metadata": {},
   "outputs": [
    {
     "name": "stdout",
     "output_type": "stream",
     "text": [
      "age       diabetes\n",
      "[0-10)    Yes          120\n",
      "          No            18\n",
      "[10-20)   Yes          412\n",
      "          No            56\n",
      "[20-30)   Yes          677\n",
      "          No           165\n",
      "[30-40)   Yes         1522\n",
      "          No           531\n",
      "[40-50)   Yes         3791\n",
      "          No          1273\n",
      "[50-60)   Yes         6659\n",
      "          No          2116\n",
      "[60-70)   Yes         8209\n",
      "          No          2665\n",
      "[70-80)   Yes         9817\n",
      "          No          3292\n",
      "[80-90)   Yes         5409\n",
      "          No          2121\n",
      "[90-100)  Yes          753\n",
      "          No           425\n",
      "Name: diabetes, dtype: int64\n"
     ]
    }
   ],
   "source": [
    "print(df.groupby(['age'])['diabetes'].value_counts())"
   ]
  },
  {
   "cell_type": "markdown",
   "id": "e98d8a00",
   "metadata": {},
   "source": [
    "# Task 2.3"
   ]
  },
  {
   "cell_type": "code",
   "execution_count": 13,
   "id": "ee6f405e",
   "metadata": {},
   "outputs": [
    {
     "data": {
      "text/plain": [
       "1    24265\n",
       "2     9715\n",
       "3     8396\n",
       "6     4184\n",
       "5     3307\n",
       "8      155\n",
       "4        7\n",
       "7        2\n",
       "Name: admission_type_id, dtype: int64"
      ]
     },
     "execution_count": 13,
     "metadata": {},
     "output_type": "execute_result"
    }
   ],
   "source": [
    "df['admission_type_id'].value_counts()"
   ]
  },
  {
   "cell_type": "code",
   "execution_count": 14,
   "id": "5553847f",
   "metadata": {},
   "outputs": [
    {
     "name": "stdout",
     "output_type": "stream",
     "text": [
      "admission_type_id  readmitted\n",
      "1                  NO            12925\n",
      "                   >30            8445\n",
      "                   <30            2895\n",
      "2                  NO             5387\n",
      "                   >30            3250\n",
      "                   <30            1078\n",
      "3                  NO             4854\n",
      "                   >30            2618\n",
      "                   <30             924\n",
      "4                  NO                4\n",
      "                   >30               2\n",
      "                   <30               1\n",
      "5                  NO             1868\n",
      "                   >30            1089\n",
      "                   <30             350\n",
      "6                  >30            1898\n",
      "                   NO             1806\n",
      "                   <30             480\n",
      "7                  NO                2\n",
      "8                  NO               95\n",
      "                   >30              39\n",
      "                   <30              21\n",
      "Name: readmitted, dtype: int64\n"
     ]
    }
   ],
   "source": [
    "print(df.groupby(['admission_type_id'])['readmitted'].value_counts())"
   ]
  },
  {
   "cell_type": "markdown",
   "id": "a9677472",
   "metadata": {},
   "source": [
    "# Task 2.4"
   ]
  },
  {
   "cell_type": "code",
   "execution_count": 15,
   "id": "e54ed5d5",
   "metadata": {},
   "outputs": [
    {
     "name": "stdout",
     "output_type": "stream",
     "text": [
      "race             readmitted\n",
      "AfricanAmerican  NO             5884\n",
      "                 >30            3923\n",
      "                 <30            1342\n",
      "Asian            NO              157\n",
      "                 >30              79\n",
      "                 <30              27\n",
      "Caucasian        NO            19126\n",
      "                 >30           12514\n",
      "                 <30            4092\n",
      "Hispanic         NO              510\n",
      "                 >30             395\n",
      "                 <30             115\n",
      "Other            NO              366\n",
      "                 >30             186\n",
      "                 <30              58\n",
      "Name: readmitted, dtype: int64\n"
     ]
    }
   ],
   "source": [
    "print(df.groupby(['race'])['readmitted'].value_counts())"
   ]
  },
  {
   "cell_type": "markdown",
   "id": "ac1a94bd",
   "metadata": {},
   "source": [
    "# Task3.2"
   ]
  },
  {
   "cell_type": "code",
   "execution_count": 16,
   "id": "f4fe1816",
   "metadata": {},
   "outputs": [],
   "source": [
    "demo_df = pd.get_dummies(df['diabetes'])"
   ]
  },
  {
   "cell_type": "code",
   "execution_count": 17,
   "id": "e8e56de6",
   "metadata": {},
   "outputs": [],
   "source": [
    "df[['diabetesYes','diabetesNo']]=demo_df"
   ]
  },
  {
   "cell_type": "code",
   "execution_count": 18,
   "id": "437f6e87",
   "metadata": {},
   "outputs": [
    {
     "data": {
      "text/plain": [
       "0        0\n",
       "1        0\n",
       "2        1\n",
       "3        0\n",
       "4        0\n",
       "        ..\n",
       "50026    0\n",
       "50027    1\n",
       "50028    1\n",
       "50029    0\n",
       "50030    0\n",
       "Name: diabetesYes, Length: 50031, dtype: uint8"
      ]
     },
     "execution_count": 18,
     "metadata": {},
     "output_type": "execute_result"
    }
   ],
   "source": [
    "df['diabetesYes']"
   ]
  },
  {
   "cell_type": "code",
   "execution_count": 19,
   "id": "c2af64d3",
   "metadata": {},
   "outputs": [
    {
     "data": {
      "text/plain": [
       "0        1\n",
       "1        1\n",
       "2        0\n",
       "3        1\n",
       "4        1\n",
       "        ..\n",
       "50026    1\n",
       "50027    0\n",
       "50028    0\n",
       "50029    1\n",
       "50030    1\n",
       "Name: diabetesNo, Length: 50031, dtype: uint8"
      ]
     },
     "execution_count": 19,
     "metadata": {},
     "output_type": "execute_result"
    }
   ],
   "source": [
    "df['diabetesNo']"
   ]
  },
  {
   "cell_type": "code",
   "execution_count": null,
   "id": "ca336a88",
   "metadata": {},
   "outputs": [],
   "source": []
  },
  {
   "cell_type": "code",
   "execution_count": 20,
   "id": "47a8077a",
   "metadata": {},
   "outputs": [],
   "source": [
    "demo_df = pd.get_dummies(df['diabetesMed'])"
   ]
  },
  {
   "cell_type": "code",
   "execution_count": 21,
   "id": "4f9181bf",
   "metadata": {},
   "outputs": [
    {
     "data": {
      "text/html": [
       "<div>\n",
       "<style scoped>\n",
       "    .dataframe tbody tr th:only-of-type {\n",
       "        vertical-align: middle;\n",
       "    }\n",
       "\n",
       "    .dataframe tbody tr th {\n",
       "        vertical-align: top;\n",
       "    }\n",
       "\n",
       "    .dataframe thead th {\n",
       "        text-align: right;\n",
       "    }\n",
       "</style>\n",
       "<table border=\"1\" class=\"dataframe\">\n",
       "  <thead>\n",
       "    <tr style=\"text-align: right;\">\n",
       "      <th></th>\n",
       "      <th>No</th>\n",
       "      <th>Yes</th>\n",
       "    </tr>\n",
       "  </thead>\n",
       "  <tbody>\n",
       "    <tr>\n",
       "      <th>0</th>\n",
       "      <td>0</td>\n",
       "      <td>1</td>\n",
       "    </tr>\n",
       "    <tr>\n",
       "      <th>1</th>\n",
       "      <td>0</td>\n",
       "      <td>1</td>\n",
       "    </tr>\n",
       "    <tr>\n",
       "      <th>2</th>\n",
       "      <td>0</td>\n",
       "      <td>1</td>\n",
       "    </tr>\n",
       "    <tr>\n",
       "      <th>3</th>\n",
       "      <td>0</td>\n",
       "      <td>1</td>\n",
       "    </tr>\n",
       "    <tr>\n",
       "      <th>4</th>\n",
       "      <td>0</td>\n",
       "      <td>1</td>\n",
       "    </tr>\n",
       "    <tr>\n",
       "      <th>...</th>\n",
       "      <td>...</td>\n",
       "      <td>...</td>\n",
       "    </tr>\n",
       "    <tr>\n",
       "      <th>50026</th>\n",
       "      <td>0</td>\n",
       "      <td>1</td>\n",
       "    </tr>\n",
       "    <tr>\n",
       "      <th>50027</th>\n",
       "      <td>1</td>\n",
       "      <td>0</td>\n",
       "    </tr>\n",
       "    <tr>\n",
       "      <th>50028</th>\n",
       "      <td>1</td>\n",
       "      <td>0</td>\n",
       "    </tr>\n",
       "    <tr>\n",
       "      <th>50029</th>\n",
       "      <td>0</td>\n",
       "      <td>1</td>\n",
       "    </tr>\n",
       "    <tr>\n",
       "      <th>50030</th>\n",
       "      <td>0</td>\n",
       "      <td>1</td>\n",
       "    </tr>\n",
       "  </tbody>\n",
       "</table>\n",
       "<p>50031 rows × 2 columns</p>\n",
       "</div>"
      ],
      "text/plain": [
       "       No  Yes\n",
       "0       0    1\n",
       "1       0    1\n",
       "2       0    1\n",
       "3       0    1\n",
       "4       0    1\n",
       "...    ..  ...\n",
       "50026   0    1\n",
       "50027   1    0\n",
       "50028   1    0\n",
       "50029   0    1\n",
       "50030   0    1\n",
       "\n",
       "[50031 rows x 2 columns]"
      ]
     },
     "execution_count": 21,
     "metadata": {},
     "output_type": "execute_result"
    }
   ],
   "source": [
    "demo_df"
   ]
  },
  {
   "cell_type": "code",
   "execution_count": 22,
   "id": "0a33cc17",
   "metadata": {},
   "outputs": [],
   "source": [
    "df[['diabetesMedYes','diabetesMedNo']]=demo_df"
   ]
  },
  {
   "cell_type": "code",
   "execution_count": 23,
   "id": "126707a2",
   "metadata": {},
   "outputs": [
    {
     "data": {
      "text/html": [
       "<div>\n",
       "<style scoped>\n",
       "    .dataframe tbody tr th:only-of-type {\n",
       "        vertical-align: middle;\n",
       "    }\n",
       "\n",
       "    .dataframe tbody tr th {\n",
       "        vertical-align: top;\n",
       "    }\n",
       "\n",
       "    .dataframe thead th {\n",
       "        text-align: right;\n",
       "    }\n",
       "</style>\n",
       "<table border=\"1\" class=\"dataframe\">\n",
       "  <thead>\n",
       "    <tr style=\"text-align: right;\">\n",
       "      <th></th>\n",
       "      <th>diabetesYes</th>\n",
       "      <th>diabetesMedYes</th>\n",
       "    </tr>\n",
       "  </thead>\n",
       "  <tbody>\n",
       "    <tr>\n",
       "      <th>diabetesYes</th>\n",
       "      <td>1.000000</td>\n",
       "      <td>0.998255</td>\n",
       "    </tr>\n",
       "    <tr>\n",
       "      <th>diabetesMedYes</th>\n",
       "      <td>0.998255</td>\n",
       "      <td>1.000000</td>\n",
       "    </tr>\n",
       "  </tbody>\n",
       "</table>\n",
       "</div>"
      ],
      "text/plain": [
       "                diabetesYes  diabetesMedYes\n",
       "diabetesYes        1.000000        0.998255\n",
       "diabetesMedYes     0.998255        1.000000"
      ]
     },
     "execution_count": 23,
     "metadata": {},
     "output_type": "execute_result"
    }
   ],
   "source": [
    "df[['diabetesYes','diabetesMedYes']].corr(method = 'spearman')"
   ]
  },
  {
   "cell_type": "markdown",
   "id": "604d116b",
   "metadata": {},
   "source": [
    "# Task 3.3"
   ]
  },
  {
   "cell_type": "code",
   "execution_count": 24,
   "id": "2593c865",
   "metadata": {},
   "outputs": [
    {
     "data": {
      "image/png": "[encoded data removed]",
      "text/plain": [
       "<Figure size 432x288 with 2 Axes>"
      ]
     },
     "metadata": {
      "needs_background": "light"
     },
     "output_type": "display_data"
    }
   ],
   "source": [
    "import numpy as np\n",
    "import pandas as pd\n",
    "import matplotlib.pyplot as plt\n",
    "\n",
    "df2 = df.select_dtypes(include=[np.number])\n",
    "\n",
    "corr = df2.corr()\n",
    "fig = plt.figure()\n",
    "ax = fig.add_subplot(111)\n",
    "cax = ax.matshow(corr,cmap='coolwarm', vmin=-1, vmax=1)\n",
    "fig.colorbar(cax)\n",
    "ticks = np.arange(0,len(df2.columns),1)\n",
    "ax.set_xticks(ticks)\n",
    "plt.xticks(rotation=90)\n",
    "ax.set_yticks(ticks)\n",
    "ax.set_xticklabels(df2.columns)\n",
    "ax.set_yticklabels(df2.columns)\n",
    "plt.show()"
   ]
  },
  {
   "cell_type": "markdown",
   "id": "8acd5707",
   "metadata": {},
   "source": [
    "# Task4"
   ]
  },
  {
   "cell_type": "code",
   "execution_count": 25,
   "id": "b95f714b",
   "metadata": {},
   "outputs": [],
   "source": [
    "df.drop(['weight'],axis=1,inplace=True)"
   ]
  },
  {
   "cell_type": "code",
   "execution_count": 26,
   "id": "51db71a4",
   "metadata": {},
   "outputs": [],
   "source": [
    "df.drop(['payer_code'],axis=1,inplace=True)"
   ]
  },
  {
   "cell_type": "code",
   "execution_count": 27,
   "id": "d51a3d54",
   "metadata": {},
   "outputs": [],
   "source": [
    "df.drop(['diag_1'],axis=1,inplace=True)"
   ]
  },
  {
   "cell_type": "code",
   "execution_count": 28,
   "id": "2c11e17f",
   "metadata": {},
   "outputs": [],
   "source": [
    "df.drop(['diag_2'],axis=1,inplace=True)"
   ]
  },
  {
   "cell_type": "code",
   "execution_count": 29,
   "id": "caa01188",
   "metadata": {},
   "outputs": [],
   "source": [
    "df.drop(['diag_3'],axis=1,inplace=True)"
   ]
  },
  {
   "cell_type": "code",
   "execution_count": 30,
   "id": "53d17580",
   "metadata": {},
   "outputs": [],
   "source": [
    "df['number_inpatient'].fillna(df['number_inpatient'].mode(), inplace=True)"
   ]
  },
  {
   "cell_type": "code",
   "execution_count": 31,
   "id": "528a37f9",
   "metadata": {},
   "outputs": [],
   "source": [
    "df['number_outpatient'].fillna(df['number_outpatient'].mode(), inplace=True)"
   ]
  },
  {
   "cell_type": "code",
   "execution_count": 32,
   "id": "f25e9882",
   "metadata": {},
   "outputs": [],
   "source": [
    "df['number_emergency'].fillna(df['number_emergency'].mode(), inplace=True)"
   ]
  },
  {
   "cell_type": "code",
   "execution_count": 33,
   "id": "275fdbd5",
   "metadata": {},
   "outputs": [
    {
     "data": {
      "text/html": [
       "<div>\n",
       "<style scoped>\n",
       "    .dataframe tbody tr th:only-of-type {\n",
       "        vertical-align: middle;\n",
       "    }\n",
       "\n",
       "    .dataframe tbody tr th {\n",
       "        vertical-align: top;\n",
       "    }\n",
       "\n",
       "    .dataframe thead th {\n",
       "        text-align: right;\n",
       "    }\n",
       "</style>\n",
       "<table border=\"1\" class=\"dataframe\">\n",
       "  <thead>\n",
       "    <tr style=\"text-align: right;\">\n",
       "      <th></th>\n",
       "      <th>encounter_id</th>\n",
       "      <th>patient_nbr</th>\n",
       "      <th>race</th>\n",
       "      <th>gender</th>\n",
       "      <th>age</th>\n",
       "      <th>admission_type_id</th>\n",
       "      <th>discharge_disposition_id</th>\n",
       "      <th>admission_source_id</th>\n",
       "      <th>length_of_stay</th>\n",
       "      <th>medical_specialty</th>\n",
       "      <th>...</th>\n",
       "      <th>tolbutamide</th>\n",
       "      <th>insulin</th>\n",
       "      <th>change</th>\n",
       "      <th>diabetesMed</th>\n",
       "      <th>readmitted</th>\n",
       "      <th>single_day_admission</th>\n",
       "      <th>diabetesYes</th>\n",
       "      <th>diabetesNo</th>\n",
       "      <th>diabetesMedYes</th>\n",
       "      <th>diabetesMedNo</th>\n",
       "    </tr>\n",
       "  </thead>\n",
       "  <tbody>\n",
       "    <tr>\n",
       "      <th>30506</th>\n",
       "      <td>98634858</td>\n",
       "      <td>100695042</td>\n",
       "      <td>Other</td>\n",
       "      <td>Unknown/Invalid</td>\n",
       "      <td>[70-80)</td>\n",
       "      <td>3</td>\n",
       "      <td>1</td>\n",
       "      <td>1</td>\n",
       "      <td>1</td>\n",
       "      <td>Cardiology</td>\n",
       "      <td>...</td>\n",
       "      <td>No</td>\n",
       "      <td>No</td>\n",
       "      <td>Ch</td>\n",
       "      <td>Yes</td>\n",
       "      <td>NO</td>\n",
       "      <td>Yes</td>\n",
       "      <td>0</td>\n",
       "      <td>1</td>\n",
       "      <td>0</td>\n",
       "      <td>1</td>\n",
       "    </tr>\n",
       "  </tbody>\n",
       "</table>\n",
       "<p>1 rows × 38 columns</p>\n",
       "</div>"
      ],
      "text/plain": [
       "      encounter_id patient_nbr   race           gender      age  \\\n",
       "30506     98634858   100695042  Other  Unknown/Invalid  [70-80)   \n",
       "\n",
       "      admission_type_id discharge_disposition_id admission_source_id  \\\n",
       "30506                 3                        1                   1   \n",
       "\n",
       "       length_of_stay medical_specialty  ...  tolbutamide  insulin  change  \\\n",
       "30506               1        Cardiology  ...           No       No      Ch   \n",
       "\n",
       "       diabetesMed  readmitted  single_day_admission  diabetesYes diabetesNo  \\\n",
       "30506          Yes          NO                   Yes            0          1   \n",
       "\n",
       "      diabetesMedYes diabetesMedNo  \n",
       "30506              0             1  \n",
       "\n",
       "[1 rows x 38 columns]"
      ]
     },
     "execution_count": 33,
     "metadata": {},
     "output_type": "execute_result"
    }
   ],
   "source": [
    "df.loc[df['gender'] == \"Unknown/Invalid\"]"
   ]
  },
  {
   "cell_type": "code",
   "execution_count": 34,
   "id": "3c49e4b9",
   "metadata": {},
   "outputs": [
    {
     "name": "stderr",
     "output_type": "stream",
     "text": [
      "<ipython-input-34-45f51b6764f9>:1: SettingWithCopyWarning: \n",
      "A value is trying to be set on a copy of a slice from a DataFrame\n",
      "\n",
      "See the caveats in the documentation: https://pandas.pydata.org/pandas-docs/stable/user_guide/indexing.html#returning-a-view-versus-a-copy\n",
      "  df['gender'][30506] = \"Female\"\n"
     ]
    }
   ],
   "source": [
    "df['gender'][30506] = \"Female\""
   ]
  },
  {
   "cell_type": "code",
   "execution_count": 35,
   "id": "f6eb9c4f",
   "metadata": {},
   "outputs": [],
   "source": [
    "df['chlorpropamide']=df['chlorpropamide'].astype(str)"
   ]
  },
  {
   "cell_type": "code",
   "execution_count": 36,
   "id": "1bfb2e77",
   "metadata": {
    "collapsed": true
   },
   "outputs": [
    {
     "data": {
      "text/plain": [
       "array(['No', 'Steady', 'Down', 'Up', 'nan'], dtype=object)"
      ]
     },
     "execution_count": 36,
     "metadata": {},
     "output_type": "execute_result"
    }
   ],
   "source": [
    "df['chlorpropamide'].unique()"
   ]
  },
  {
   "cell_type": "code",
   "execution_count": 37,
   "id": "c6eff765",
   "metadata": {},
   "outputs": [
    {
     "data": {
      "text/html": [
       "<div>\n",
       "<style scoped>\n",
       "    .dataframe tbody tr th:only-of-type {\n",
       "        vertical-align: middle;\n",
       "    }\n",
       "\n",
       "    .dataframe tbody tr th {\n",
       "        vertical-align: top;\n",
       "    }\n",
       "\n",
       "    .dataframe thead th {\n",
       "        text-align: right;\n",
       "    }\n",
       "</style>\n",
       "<table border=\"1\" class=\"dataframe\">\n",
       "  <thead>\n",
       "    <tr style=\"text-align: right;\">\n",
       "      <th></th>\n",
       "      <th>encounter_id</th>\n",
       "      <th>patient_nbr</th>\n",
       "      <th>race</th>\n",
       "      <th>gender</th>\n",
       "      <th>age</th>\n",
       "      <th>admission_type_id</th>\n",
       "      <th>discharge_disposition_id</th>\n",
       "      <th>admission_source_id</th>\n",
       "      <th>length_of_stay</th>\n",
       "      <th>medical_specialty</th>\n",
       "      <th>...</th>\n",
       "      <th>tolbutamide</th>\n",
       "      <th>insulin</th>\n",
       "      <th>change</th>\n",
       "      <th>diabetesMed</th>\n",
       "      <th>readmitted</th>\n",
       "      <th>single_day_admission</th>\n",
       "      <th>diabetesYes</th>\n",
       "      <th>diabetesNo</th>\n",
       "      <th>diabetesMedYes</th>\n",
       "      <th>diabetesMedNo</th>\n",
       "    </tr>\n",
       "  </thead>\n",
       "  <tbody>\n",
       "    <tr>\n",
       "      <th>50020</th>\n",
       "      <td>150702360</td>\n",
       "      <td>84841839</td>\n",
       "      <td>Caucasian</td>\n",
       "      <td>Male</td>\n",
       "      <td>[60-70)</td>\n",
       "      <td>2</td>\n",
       "      <td>3</td>\n",
       "      <td>1</td>\n",
       "      <td>6</td>\n",
       "      <td>Surgery-Vascular</td>\n",
       "      <td>...</td>\n",
       "      <td>No</td>\n",
       "      <td>Down</td>\n",
       "      <td>Ch</td>\n",
       "      <td>Yes</td>\n",
       "      <td>&gt;30</td>\n",
       "      <td>No</td>\n",
       "      <td>0</td>\n",
       "      <td>1</td>\n",
       "      <td>0</td>\n",
       "      <td>1</td>\n",
       "    </tr>\n",
       "  </tbody>\n",
       "</table>\n",
       "<p>1 rows × 38 columns</p>\n",
       "</div>"
      ],
      "text/plain": [
       "      encounter_id patient_nbr       race gender      age admission_type_id  \\\n",
       "50020    150702360    84841839  Caucasian   Male  [60-70)                 2   \n",
       "\n",
       "      discharge_disposition_id admission_source_id  length_of_stay  \\\n",
       "50020                        3                   1               6   \n",
       "\n",
       "      medical_specialty  ...  tolbutamide  insulin  change  diabetesMed  \\\n",
       "50020  Surgery-Vascular  ...           No     Down      Ch          Yes   \n",
       "\n",
       "       readmitted  single_day_admission  diabetesYes diabetesNo  \\\n",
       "50020         >30                    No            0          1   \n",
       "\n",
       "      diabetesMedYes diabetesMedNo  \n",
       "50020              0             1  \n",
       "\n",
       "[1 rows x 38 columns]"
      ]
     },
     "execution_count": 37,
     "metadata": {},
     "output_type": "execute_result"
    }
   ],
   "source": [
    "df.loc[df['chlorpropamide'] == \"nan\"]"
   ]
  },
  {
   "cell_type": "code",
   "execution_count": 38,
   "id": "bec96417",
   "metadata": {},
   "outputs": [
    {
     "name": "stderr",
     "output_type": "stream",
     "text": [
      "<ipython-input-38-6af12dc95c93>:1: SettingWithCopyWarning: \n",
      "A value is trying to be set on a copy of a slice from a DataFrame\n",
      "\n",
      "See the caveats in the documentation: https://pandas.pydata.org/pandas-docs/stable/user_guide/indexing.html#returning-a-view-versus-a-copy\n",
      "  df['chlorpropamide'][50020] = \"No\"\n"
     ]
    }
   ],
   "source": [
    "df['chlorpropamide'][50020] = \"No\""
   ]
  },
  {
   "cell_type": "code",
   "execution_count": 39,
   "id": "fa7d973a",
   "metadata": {},
   "outputs": [],
   "source": [
    "df['race'].fillna('Caucasian',inplace=True)"
   ]
  },
  {
   "cell_type": "code",
   "execution_count": 40,
   "id": "b605c404",
   "metadata": {},
   "outputs": [],
   "source": [
    "a = df['number_inpatient'].mean()\n",
    "b = df['number_inpatient'].std()\n",
    "c = df['number_inpatient']\n",
    "df['number_inpatient'] = (c-a)/b"
   ]
  },
  {
   "cell_type": "code",
   "execution_count": 41,
   "id": "49d74a2b",
   "metadata": {},
   "outputs": [],
   "source": [
    "a = df['number_outpatient'].mean()\n",
    "b = df['number_outpatient'].std()\n",
    "c = df['number_outpatient']\n",
    "df['number_outpatient'] = (c-a)/b"
   ]
  },
  {
   "cell_type": "code",
   "execution_count": 42,
   "id": "e70beced",
   "metadata": {},
   "outputs": [],
   "source": [
    "a = df['number_emergency'].mean()\n",
    "b = df['number_emergency'].std()\n",
    "c = df['number_emergency']\n",
    "df['number_emergency'] = (c-a)/b\n"
   ]
  },
  {
   "cell_type": "code",
   "execution_count": 43,
   "id": "87afa0e1",
   "metadata": {},
   "outputs": [
    {
     "name": "stdout",
     "output_type": "stream",
     "text": [
      "       AfricanAmerican  Asian  Caucasian  Hispanic  Other\n",
      "0                    0      0          1         0      0\n",
      "1                    0      0          1         0      0\n",
      "2                    0      0          1         0      0\n",
      "3                    1      0          0         0      0\n",
      "4                    0      0          1         0      0\n",
      "...                ...    ...        ...       ...    ...\n",
      "50026                1      0          0         0      0\n",
      "50027                0      0          1         0      0\n",
      "50028                0      0          1         0      0\n",
      "50029                0      0          1         0      0\n",
      "50030                0      0          1         0      0\n",
      "\n",
      "[50031 rows x 5 columns]\n"
     ]
    }
   ],
   "source": [
    "demo_df = pd.get_dummies(df['race'])\n",
    "print(demo_df)"
   ]
  },
  {
   "cell_type": "code",
   "execution_count": 44,
   "id": "721ddf6f",
   "metadata": {},
   "outputs": [],
   "source": [
    "df[['AfricanAmerican','Asian','Caucasian','Hispanic','Other']]=demo_df"
   ]
  },
  {
   "cell_type": "code",
   "execution_count": 45,
   "id": "b7b277ce",
   "metadata": {},
   "outputs": [
    {
     "name": "stdout",
     "output_type": "stream",
     "text": [
      "       Down  No  Steady  Up\n",
      "0         0   1       0   0\n",
      "1         0   1       0   0\n",
      "2         0   1       0   0\n",
      "3         0   1       0   0\n",
      "4         0   1       0   0\n",
      "...     ...  ..     ...  ..\n",
      "50026     0   1       0   0\n",
      "50027     0   1       0   0\n",
      "50028     0   1       0   0\n",
      "50029     0   1       0   0\n",
      "50030     0   1       0   0\n",
      "\n",
      "[50031 rows x 4 columns]\n"
     ]
    }
   ],
   "source": [
    "demo_df = pd.get_dummies(df['chlorpropamide'])\n",
    "print(demo_df)"
   ]
  },
  {
   "cell_type": "code",
   "execution_count": 46,
   "id": "f15c8cc9",
   "metadata": {},
   "outputs": [],
   "source": [
    "df[['chlorpropamideDown','chlorpropamideNo','chlorpropamideSteady','chlorpropamideUp']]=demo_df"
   ]
  },
  {
   "cell_type": "code",
   "execution_count": 47,
   "id": "fe3f05b9",
   "metadata": {},
   "outputs": [],
   "source": [
    "demo_df = pd.get_dummies(df['gender'])\n"
   ]
  },
  {
   "cell_type": "code",
   "execution_count": 48,
   "id": "51529278",
   "metadata": {},
   "outputs": [],
   "source": [
    "df[['newfemale','newMale']]=demo_df"
   ]
  },
  {
   "cell_type": "code",
   "execution_count": 49,
   "id": "e9275b69",
   "metadata": {},
   "outputs": [],
   "source": [
    "y = df['diabetes']\n",
    "X = df.drop(['diabetes'], axis=1)"
   ]
  },
  {
   "cell_type": "code",
   "execution_count": 50,
   "id": "0e547e39",
   "metadata": {},
   "outputs": [],
   "source": [
    "X_mat = X.to_numpy()"
   ]
  },
  {
   "cell_type": "code",
   "execution_count": 51,
   "id": "183e16f4",
   "metadata": {},
   "outputs": [
    {
     "ename": "ModuleNotFoundError",
     "evalue": "No module named 'sklearn'",
     "output_type": "error",
     "traceback": [
      "\u001b[1;31m---------------------------------------------------------------------------\u001b[0m",
      "\u001b[1;31mModuleNotFoundError\u001b[0m                       Traceback (most recent call last)",
      "\u001b[1;32m<ipython-input-51-73edc048c06b>\u001b[0m in \u001b[0;36m<module>\u001b[1;34m\u001b[0m\n\u001b[1;32m----> 1\u001b[1;33m \u001b[1;32mfrom\u001b[0m \u001b[0msklearn\u001b[0m\u001b[1;33m.\u001b[0m\u001b[0mmodel_selection\u001b[0m \u001b[1;32mimport\u001b[0m \u001b[0mtrain_test_split\u001b[0m\u001b[1;33m\u001b[0m\u001b[1;33m\u001b[0m\u001b[0m\n\u001b[0m",
      "\u001b[1;31mModuleNotFoundError\u001b[0m: No module named 'sklearn'"
     ]
    }
   ],
   "source": [
    "from sklearn.model_selection import train_test_split"
   ]
  },
  {
   "cell_type": "code",
   "execution_count": null,
   "id": "409d77bd",
   "metadata": {},
   "outputs": [],
   "source": [
    "rs = 10\n",
    "X_train, X_test, y_train, y_test = train_test_split(X_mat, y, test_size=0.3,\n",
    "stratify=y, random_state=rs)"
   ]
  },
  {
   "cell_type": "code",
   "execution_count": 52,
   "id": "1affcbd4",
   "metadata": {},
   "outputs": [
    {
     "name": "stdout",
     "output_type": "stream",
     "text": [
      "<class 'pandas.core.frame.DataFrame'>\n",
      "RangeIndex: 50031 entries, 0 to 50030\n",
      "Data columns (total 49 columns):\n",
      " #   Column                    Non-Null Count  Dtype  \n",
      "---  ------                    --------------  -----  \n",
      " 0   encounter_id              50031 non-null  object \n",
      " 1   patient_nbr               50031 non-null  object \n",
      " 2   race                      50031 non-null  object \n",
      " 3   gender                    50031 non-null  object \n",
      " 4   age                       50031 non-null  object \n",
      " 5   admission_type_id         50031 non-null  object \n",
      " 6   discharge_disposition_id  50031 non-null  object \n",
      " 7   admission_source_id       50031 non-null  object \n",
      " 8   length_of_stay            50031 non-null  int64  \n",
      " 9   medical_specialty         32276 non-null  object \n",
      " 10  num_lab_procedures        50031 non-null  int64  \n",
      " 11  num_procedures            50031 non-null  int64  \n",
      " 12  num_medications           50031 non-null  int64  \n",
      " 13  number_outpatient         50011 non-null  Float64\n",
      " 14  number_emergency          49962 non-null  Float64\n",
      " 15  number_inpatient          50016 non-null  Float64\n",
      " 16  number_diagnoses          50031 non-null  int64  \n",
      " 17  diabetes                  50031 non-null  object \n",
      " 18  max_glu_serum             50031 non-null  object \n",
      " 19  A1Cresult                 50031 non-null  object \n",
      " 20  metformin                 50031 non-null  object \n",
      " 21  repaglinide               50031 non-null  object \n",
      " 22  nateglinide               50031 non-null  object \n",
      " 23  chlorpropamide            50031 non-null  object \n",
      " 24  glimepiride               50031 non-null  object \n",
      " 25  acetohexamide             50031 non-null  object \n",
      " 26  glipizide                 50031 non-null  object \n",
      " 27  glyburide                 50031 non-null  object \n",
      " 28  tolbutamide               50031 non-null  object \n",
      " 29  insulin                   50031 non-null  object \n",
      " 30  change                    50031 non-null  object \n",
      " 31  diabetesMed               50031 non-null  object \n",
      " 32  readmitted                50031 non-null  object \n",
      " 33  single_day_admission      50031 non-null  object \n",
      " 34  diabetesYes               50031 non-null  uint8  \n",
      " 35  diabetesNo                50031 non-null  uint8  \n",
      " 36  diabetesMedYes            50031 non-null  uint8  \n",
      " 37  diabetesMedNo             50031 non-null  uint8  \n",
      " 38  AfricanAmerican           50031 non-null  uint8  \n",
      " 39  Asian                     50031 non-null  uint8  \n",
      " 40  Caucasian                 50031 non-null  uint8  \n",
      " 41  Hispanic                  50031 non-null  uint8  \n",
      " 42  Other                     50031 non-null  uint8  \n",
      " 43  chlorpropamideDown        50031 non-null  uint8  \n",
      " 44  chlorpropamideNo          50031 non-null  uint8  \n",
      " 45  chlorpropamideSteady      50031 non-null  uint8  \n",
      " 46  chlorpropamideUp          50031 non-null  uint8  \n",
      " 47  newfemale                 50031 non-null  uint8  \n",
      " 48  newMale                   50031 non-null  uint8  \n",
      "dtypes: Float64(3), int64(5), object(26), uint8(15)\n",
      "memory usage: 13.8+ MB\n"
     ]
    }
   ],
   "source": [
    "df.info()"
   ]
  },
  {
   "cell_type": "code",
   "execution_count": 53,
   "id": "4650cd31",
   "metadata": {},
   "outputs": [],
   "source": [
    "df.to_csv('FinalData.csv')"
   ]
  },
  {
   "cell_type": "code",
   "execution_count": null,
   "id": "d49280f4",
   "metadata": {},
   "outputs": [],
   "source": []
  }
 ],
 "metadata": {
  "kernelspec": {
   "display_name": "Python 3 (ipykernel)",
   "language": "python",
   "name": "python3"
  },
  "language_info": {
   "codemirror_mode": {
    "name": "ipython",
    "version": 3
   },
   "file_extension": ".py",
   "mimetype": "text/x-python",
   "name": "python",
   "nbconvert_exporter": "python",
   "pygments_lexer": "ipython3",
   "version": "3.9.12"
  }
 },
 "nbformat": 4,
 "nbformat_minor": 5
}
